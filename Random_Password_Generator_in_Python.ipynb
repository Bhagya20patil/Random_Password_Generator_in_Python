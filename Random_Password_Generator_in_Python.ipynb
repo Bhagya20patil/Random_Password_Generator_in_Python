{
 "cells": [
  {
   "cell_type": "code",
   "execution_count": 13,
   "metadata": {},
   "outputs": [],
   "source": [
    "from msilib.schema import CheckBox\n",
    "import random\n",
    "from tkinter import *\n",
    "import tkinter\n"
   ]
  },
  {
   "cell_type": "code",
   "execution_count": 14,
   "metadata": {},
   "outputs": [],
   "source": [
    "# creating a window.\n",
    "window = Tk()\n",
    "\n",
    "# providing the title of the window.\n",
    "window.title(\"Random Password Generator - Scaler Topics\")\n",
    "\n",
    "# setting the size of the window.\n",
    "window.geometry(\"600x600\")\n",
    "\n",
    "# adding a label\n",
    "Label(window, font=('bold', 8), text='Generate Password').pack()\n",
    "\n",
    "\n",
    "# converting the length into an integer.\n",
    "length1 = tkinter.IntVar()\n",
    "length2 = tkinter.IntVar()\n",
    "length3 = tkinter.IntVar()\n",
    "length4 = tkinter.IntVar()\n",
    "length5 = tkinter.IntVar()\n"
   ]
  },
  {
   "cell_type": "code",
   "execution_count": 15,
   "metadata": {},
   "outputs": [],
   "source": [
    "# function to generate random password\n",
    "def passwordGeneration(n):\n",
    "    characters = 'abcdefghijklmnopqrstuvwxyzABCDEFGHIJKLMNOPQRSTUVWXYZ0123456789@_'\n",
    "\n",
    "    # generating random password ans strong it\n",
    "    password = ''.join(random.sample(characters, n))\n",
    "\n",
    "    # creating a label and adding the password on the label\n",
    "    l = Label(window, text=password, font=('bold', 15))  # displaying password\n",
    "    l.place(x=225, y=65)"
   ]
  },
  {
   "cell_type": "code",
   "execution_count": 16,
   "metadata": {},
   "outputs": [],
   "source": [
    "# getLength function will call the passwordGeneration function\n",
    "def getLength():\n",
    "    if length1.get() == 4:\n",
    "        passwordGeneration(4)\n",
    "    elif length2.get() == 6:\n",
    "        passwordGeneration(6)\n",
    "    elif length3.get() == 8:\n",
    "        passwordGeneration(8)\n",
    "    elif length4.get() == 10:\n",
    "        passwordGeneration(10)\n",
    "    else:\n",
    "        passwordGeneration(12)"
   ]
  },
  {
   "cell_type": "code",
   "execution_count": 17,
   "metadata": {},
   "outputs": [],
   "source": [
    "# creating buttons\n",
    "Button(window, text='Random Generate Password', font=('cursive', 10),\n",
    "       bg='blue', command=getLength).place(x=230, y=100)\n"
   ]
  },
  {
   "cell_type": "code",
   "execution_count": 18,
   "metadata": {},
   "outputs": [],
   "source": [
    "# creating checkboxes\n",
    "Checkbutton(text='4 character', onvalue=4, offvalue=0,\n",
    "            variable=length1).place(x=250, y=150)\n",
    "Checkbutton(text='6 character', onvalue=6, offvalue=0,\n",
    "            variable=length2).place(x=250, y=170)\n",
    "Checkbutton(text='8 character', onvalue=8, offvalue=0,\n",
    "            variable=length3).place(x=250, y=190)\n",
    "Checkbutton(text='10 character', onvalue=10, offvalue=0,\n",
    "            variable=length4).place(x=250, y=210)\n",
    "Checkbutton(text='12 character', onvalue=12, offvalue=0,\n",
    "            variable=length4).place(x=250, y=230)\n",
    "\n",
    "\n",
    "window.mainloop()"
   ]
  }
 ],
 "metadata": {
  "kernelspec": {
   "display_name": "Python 3",
   "language": "python",
   "name": "python3"
  },
  "language_info": {
   "codemirror_mode": {
    "name": "ipython",
    "version": 3
   },
   "file_extension": ".py",
   "mimetype": "text/x-python",
   "name": "python",
   "nbconvert_exporter": "python",
   "pygments_lexer": "ipython3",
   "version": "3.10.5"
  },
  "orig_nbformat": 4,
  "vscode": {
   "interpreter": {
    "hash": "a42ccb73e7d9bfdf27e036f1d2b8b681e55fc0743cc5586bc2474d4a60f4b886"
   }
  }
 },
 "nbformat": 4,
 "nbformat_minor": 2
}
